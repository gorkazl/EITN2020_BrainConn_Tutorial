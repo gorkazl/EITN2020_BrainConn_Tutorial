{
 "cells": [
  {
   "cell_type": "markdown",
   "metadata": {},
   "source": [
    "EITN Spring School in Computational Neuroscience, March 4-13, 2020.   \n",
    "European Institute for Theoretical Neuroscience, Paris, France.\n",
    "\n",
    "\n",
    "# Tutorial: Introduction to Brain Connectivity\n",
    "#### Gorka Zamora-López, Ph.D.\n",
    "\n",
    "<img src=\"Images/UPFlogo_smaller.png\" style=\"float:right; width:149px; height:50px\"  alt=\"UPF logo\" />\n",
    "<img src=\"Images/HBPlogo_smaller.png\" style=\"float:left; width:254px; heigth:50px \" alt=\"HBP logo\" />\n",
    "\n",
    "<br>\n",
    "<br>\n",
    "<br>\n",
    "<br>\n",
    "\n",
    "---------------------------\n",
    "\n",
    "#### Dependencies\n",
    "\n",
    "This tutorial requires a Python 3.X installation together with NumPy and Matplotlib libraries. To analyse networks we will use the *Graph Analysis Library* (**GAlib**), developed by Gorka Zamora-López. Find the library and instructions in its [GitHub repository](https://github.com/gorkazl/pyGAlib). GAlib is registered in the Python Package Index (PyPI), therefore installation only requires to run the following command in a terminal \n",
    "\n",
    "    $ pip install galib\n",
    "\n"
   ]
  },
  {
   "cell_type": "markdown",
   "metadata": {},
   "source": [
    "### Import the main libraries\n",
    "\n",
    "To get started, we first need to load the libraries we will use. Note that here we will make an absolute import of *NumPy*."
   ]
  },
  {
   "cell_type": "code",
   "execution_count": null,
   "metadata": {},
   "outputs": [],
   "source": [
    "from timeit import default_timer as timer\n",
    "import matplotlib.pyplot as plt\n",
    "%matplotlib inline\n",
    "from numpy import*"
   ]
  },
  {
   "cell_type": "markdown",
   "metadata": {
    "slideshow": {
     "slide_type": "-"
    }
   },
   "source": [
    "**Import GAlib**\n",
    "\n",
    "The following cell will check whether GAlib is installed in the current working environment, otherwise, it will call `pip` for the installation (a working internet connection is required). \n",
    "\n",
    "**NOTE**: The exclamation mark ( ! ) before ``pip install galib`` indicates to the Jupyter Notebook that the current line is a system command. The line is treated as if it were run from a terminal."
   ]
  },
  {
   "cell_type": "code",
   "execution_count": null,
   "metadata": {
    "scrolled": true
   },
   "outputs": [],
   "source": [
    "## Check if GAlib is installed in the current environment, otherwise install\n",
    "try:\n",
    "    import galib\n",
    "except:\n",
    "    print('Installing GAlib...')\n",
    "    ! pip install galib\n",
    "    import galib"
   ]
  },
  {
   "cell_type": "code",
   "execution_count": null,
   "metadata": {},
   "outputs": [],
   "source": []
  },
  {
   "cell_type": "markdown",
   "metadata": {},
   "source": [
    "<br>\n",
    "<br>\n",
    "\n",
    "## Structural Connectivity ––––––––––––––––––––––––––––––––––––––––––––\n",
    "#### Load the data and explore basic features of the network\n",
    "\n",
    "In this tutorial, we will study the anatomical long-range brain connectivity in the brain of cats. The data consist of a parcellation (division) of one brain hemisphere into **53 cortical regions** (grey matter), and the anatomical long-range fibers experimentally identified between them. Find a comprehensive analysis of this network in:\n",
    "\n",
    "- G. Zamora-López, C.S. Zhou et al \"*[Cortical hubs form a module for multisensory integration on top of the hierarchy of cortical networks](https://www.frontiersin.org/articles/10.3389/neuro.11.001.2010/full)*\" Front. Neuroinform. 4:1 (2010).\n",
    "- G. Zamora-López, C.S. Zhou et al \"*[Exploring brain function from anatomical connectivity](https://www.frontiersin.org/articles/10.3389/fnins.2011.00083/full)*\" Front. Neurosci. 5:83 (2011).\n",
    "\n",
    "\n",
    "Let's load the data and visualise the adjacency matrix."
   ]
  },
  {
   "cell_type": "code",
   "execution_count": null,
   "metadata": {},
   "outputs": [],
   "source": [
    "dataroot = 'Datasets/Cat/'\n",
    "catnet = loadtxt(dataroot + 'Cat53_cortex.txt', dtype=float)\n",
    "\n",
    "plt.figure()\n",
    "plt.imshow(catnet, cmap='gray_r')\n",
    "plt.colorbar()"
   ]
  },
  {
   "cell_type": "markdown",
   "metadata": {},
   "source": [
    "Most graph measures exist for directed networks, which provides richer information. Check for example the `Reciprocity()` and `ReciprocalDegree()` functions. GAlib functions usually come with an optional parameter `directed` in order to specify whether the undirected or the directed version of the metric is desired. By default, the parameter is set to `directed=False`.\n",
    "\n",
    "For the rest of the tutorial we will consider that the long-range connectome is **symmetric**, which is a fairly good approximation, and we will ignore the weights of the links."
   ]
  },
  {
   "cell_type": "code",
   "execution_count": null,
   "metadata": {},
   "outputs": [],
   "source": [
    "# Symmetrise and binarise the adjacency matrix\n",
    "netsym = 0.5 * (catnet + catnet.T)\n",
    "netsym = where(netsym,1,0).astype(uint8)\n",
    "\n",
    "plt.figure()\n",
    "plt.imshow(netsym, cmap='gray_r')\n",
    "plt.colorbar()"
   ]
  },
  {
   "cell_type": "code",
   "execution_count": null,
   "metadata": {},
   "outputs": [],
   "source": [
    "# Fundamental properties of the network\n",
    "N = len(netsym)\n",
    "L = 0.5 * netsym.astype(bool).sum()\n",
    "Lmax = 0.5 * N*(N-1)\n",
    "dens = L / Lmax\n",
    "\n",
    "print('Number of nodes, N: %d\\t\\tNumber of links, L: %d\\t\\tdensity: %1.3f' %(N, L, dens))"
   ]
  },
  {
   "cell_type": "markdown",
   "metadata": {},
   "source": [
    "<br>\n",
    "\n",
    "### (Exercise 1) – Local network properties\n",
    "Let's start analysing the network. First, we will:\n",
    "1. find its degree distribution, and\n",
    "2. calculate the clustering coefficient\n",
    "\n",
    "First of all, we need to import the functions from the Graph Analysis Library (GAlib). For now, we will use the module *galib.py*, which contains functions to estimate graph measures out of a graph."
   ]
  },
  {
   "cell_type": "code",
   "execution_count": null,
   "metadata": {},
   "outputs": [],
   "source": [
    "# Calculate the degree of every node\n",
    "deg = galib.Degree(netsym, directed=False)\n",
    "print('Degrees: Min = %d, Max = %d, Mean degree: %1.3f' %(deg.min(), deg.max(), deg.mean()))\n",
    "\n",
    "# Plot the degree distribution\n",
    "plt.figure()\n",
    "plt.hist(deg, bins=8, range=(0,40), rwidth=0.8, density=True)\n",
    "plt.xlabel('Node degree', fontsize=14)"
   ]
  },
  {
   "cell_type": "code",
   "execution_count": null,
   "metadata": {},
   "outputs": [],
   "source": [
    "# Calculate the clustering of the network and the local clustering of every node\n",
    "C, Cnodes = galib.Clustering(netsym, checkdirected=False)\n",
    "\n",
    "print( 'Clustering coefficient: %1.3f' %C )\n",
    "print( 'Local clustering: Min = %1.3f, Max = %1.3f, Average = %1.3f' %(Cnodes.min(), Cnodes.max(), Cnodes.mean()) )"
   ]
  },
  {
   "cell_type": "markdown",
   "metadata": {},
   "source": [
    "<br>\n",
    "\n",
    "### (Exercise 2) – Rich-club identification\n",
    "We say a network has a rich when (i) there are hubs in a network and (ii) those hubs are densely interconnected. Rich-club identification is a two steps process:\n",
    "1. Compute the $k$-density measure, $\\Phi(k)$, and see whether it grows, stabilises or decays.\n",
    "2. If $k$-density grows sufficiently, identify the set of hubs forming the rich-club.\n",
    "\n",
    "**WARNING!** Unfortunately the identification of a rich-club implies some arbitrary choices. No strict criteria exist but, as a rule of thumb, if $\\Phi(k)$ grows above 0.8, then you are pretty safe. Contrary to what is commonly found in the literature, the identification of a rich-club **does not** require the comparison to results from a null-model (random or rewired networks). Such comparisons are important, however, to inquiry about the *causes* leading to the presence (or the absence) of a rich-club."
   ]
  },
  {
   "cell_type": "code",
   "execution_count": null,
   "metadata": {},
   "outputs": [],
   "source": [
    "# Compute the k-density and plot it\n",
    "kdens = galib.k_Density(netsym)\n",
    "plt.figure()\n",
    "plt.plot(kdens, '.-')\n",
    "plt.xlabel('Node degree', fontsize=12)\n",
    "plt.ylabel('k-density', fontsize=12)\n",
    "plt.grid(axis='y')"
   ]
  },
  {
   "cell_type": "code",
   "execution_count": null,
   "metadata": {},
   "outputs": [],
   "source": [
    "# Identify the degree at which k-density overcomes the (arbitrary) threshold\n",
    "densthres = 0.8\n",
    "kthres = where(kdens >= densthres)[0][0]\n",
    "# Identify the hubs forming the rich-club\n",
    "richclub = where(deg >= kthres)[0]\n",
    "print('Nodes in the richclub for k-density threshold %1.2f:' %densthres)\n",
    "print(richclub)"
   ]
  },
  {
   "cell_type": "code",
   "execution_count": null,
   "metadata": {},
   "outputs": [],
   "source": [
    "# Let's now see who those rich-club regions are\n",
    "from galib.tools import LoadLabels\n",
    "labels = LoadLabels(dataroot + 'Areas53_list.txt')\n",
    "for node in richclub:\n",
    "    print(labels[node])"
   ]
  },
  {
   "cell_type": "markdown",
   "metadata": {},
   "source": [
    "<br>\n",
    "\n",
    "### (Exercise 3) – Global network properties \n",
    "\n",
    "1. Compute the diameter of the network and its average pathlength\n",
    "2. Calculate the betwenness centrality of the nodes\n",
    "\n",
    "The [Dijkstra algorithm](https://en.wikipedia.org/wiki/Dijkstra%27s_algorithm) is a famous method to find the graph distance between two nodes in a graph. However, if we want to know the distance between all pairs, the [Floyd-Warshall algorithm](https://en.wikipedia.org/wiki/Floyd–Warshall_algorithm) is faster than running Dijkstra N^2 times. "
   ]
  },
  {
   "cell_type": "code",
   "execution_count": null,
   "metadata": {},
   "outputs": [],
   "source": [
    "# Calculate the pair-wise graph distance matrix\n",
    "Dij = galib.FloydWarshall(netsym)\n",
    "\n",
    "diam = Dij.max()\n",
    "avpathlen = (Dij.sum() - Dij.trace()) / (N*(N-1))\n",
    "\n",
    "print('Diameter: %d\\tAv. Pathlen: %1.3f' %(diam, avpathlen))\n",
    "\n",
    "# Visualise the distance matrix as well"
   ]
  },
  {
   "cell_type": "code",
   "execution_count": null,
   "metadata": {},
   "outputs": [],
   "source": [
    "# Calculate the pairwise distance matrix, the between centrality of every node,\n",
    "# all shortest paths from node i to j, and all shortest path starting \n",
    "# from i and returning to i\n",
    "Dij, bcnodes, paths, cycles = galib.PathsAllinOne(netsym)\n",
    "print( '\\nBetweenness centrality. Min: %d\\tMax: %d' %(bcnodes.min(), bcnodes.max()) )"
   ]
  },
  {
   "cell_type": "code",
   "execution_count": null,
   "metadata": {},
   "outputs": [],
   "source": [
    "# Normalise BC of the nodes by the number of existing shortest paths\n",
    "# diameter was diam=3\n",
    "npaths = len(paths[1]) + len(paths[2]) + len(paths[3])\n",
    "bcnormed = bcnodes / npaths \n",
    "\n",
    "print( 'Total number of shortest paths: %d' %npaths )\n",
    "print( 'Betweenness centrality. Min: %1.3f\\tMax: %1.3f' %(bcnormed.min(), bcnormed.max()) )"
   ]
  },
  {
   "cell_type": "code",
   "execution_count": null,
   "metadata": {},
   "outputs": [],
   "source": [
    "# Plot the relation between the degree and betweenness of each node\n",
    "plt.figure()\n",
    "plt.scatter(deg, bcnormed)\n",
    "plt.xlabel('Node degree', fontsize=14)\n",
    "plt.ylabel('Betweenness centrality', fontsize=14)\n",
    "plt.xlim(0,45)\n",
    "plt.grid(lw=0.5)"
   ]
  },
  {
   "cell_type": "markdown",
   "metadata": {},
   "source": [
    "<br>\n",
    "\n",
    "### (Exercise 4) – Graph models. Null-models and benchmarks\n",
    "\n",
    "We will now compare the properties of the cat connectome to the properties of typical reference networks: *random graphs* and *degree-preserving random graphs*. These comparisons serve us to explore where the properties observed in real connectome may come from.\n",
    "\n",
    "**Random graphs** are the 1st-order reference network model. It is a well-known fact that the numerical outcome of all graph metrics strongly depends on how sparse, or how dense the network is (i.e., on the size N and number of links L.) This makes network comparison a difficult challenge. Random graphs are the network models with the least number of constraints (N and L) and only one assumption: that every link has been seeded independently, at random.\n",
    "\n",
    "Beyond N and L, we often want to know how much do the observed metrics depend on a third constraint: the degree-distribution. Specially because the presence of hubs may strongly influence other properties. To explore that, we can generate reference graphs with the same N, L and degree-sequence as the original network, which are maximally random under those constraints. Because of the additional constraint, these are 2nd-order reference graphs. We can construct such networks by randomly rewiring the links of the original network, carefully conserving the given constraints.\n",
    "\n",
    "In GAlib library, the functions to generate different network models are located in the *models.py* module."
   ]
  },
  {
   "cell_type": "code",
   "execution_count": null,
   "metadata": {},
   "outputs": [],
   "source": [
    "# Generate ensemble of random graphs with same N and L as the cat connectome\n",
    "from galib.models import RandomGraph\n",
    "nrealiz = 10\n",
    "randnets = zeros((nrealiz,N,N), uint8)\n",
    "for re in range(nrealiz):\n",
    "    randnets[re] = RandomGraph(N,L, directed=False)"
   ]
  },
  {
   "cell_type": "code",
   "execution_count": null,
   "metadata": {},
   "outputs": [],
   "source": [
    "# Generate ensemble of random graphs with same N and L and k-sequence as the cat connectome\n",
    "from galib.models import RewireNetwork\n",
    "rewnets = zeros((nrealiz,N,N), uint8)\n",
    "for re in range(nrealiz):\n",
    "    rewnets[re] = RewireNetwork(netsym, prewire=10, directed=False, weighted=False)"
   ]
  },
  {
   "cell_type": "markdown",
   "metadata": {},
   "source": [
    "#### Compare the degree distributions"
   ]
  },
  {
   "cell_type": "code",
   "execution_count": null,
   "metadata": {},
   "outputs": [],
   "source": [
    "deglist_rand = []\n",
    "deglist_rew = []\n",
    "for re in range(nrealiz):\n",
    "    deglist_rand += galib.Degree(randnets[re], directed=False).tolist()\n",
    "    deglist_rew += galib.Degree(rewnets[re], directed=False).tolist()\n",
    "deglist_rand = array(deglist_rand, dtype=uint)\n",
    "deglist_rew = array(deglist_rew, dtype=uint)\n",
    "\n",
    "print('\\nDEGREES')\n",
    "print('Cat \\t Min = %d, Max = %d,\\t Mean degree: %1.3f' %(deg.min(), deg.max(), deg.mean()))\n",
    "print('Random \\t Min = %d, Max = %d,\\t Mean degree: %1.3f' %(deglist_rand.min(), deglist_rand.max(), deglist_rand.mean()) )\n",
    "print('Rew \\t Min = %d, Max = %d,\\t Mean degree: %1.3f' %(deglist_rew.min(), deglist_rew.max(), deglist_rew.mean()))"
   ]
  },
  {
   "cell_type": "code",
   "execution_count": null,
   "metadata": {},
   "outputs": [],
   "source": [
    "# Plot the degree distributions\n",
    "plt.figure()\n",
    "plt.hist(deglist_rand, bins=8, range=(0,40), rwidth=0.8, density=True)\n",
    "plt.xlabel('Node degree', fontsize=14)\n",
    "\n",
    "plt.figure()\n",
    "plt.hist(deglist_rew, bins=8, range=(0,40), rwidth=0.8, density=True)\n",
    "plt.xlabel('Node degree', fontsize=14)"
   ]
  },
  {
   "cell_type": "markdown",
   "metadata": {},
   "source": [
    "#### Compare the clustering coefficient "
   ]
  },
  {
   "cell_type": "code",
   "execution_count": null,
   "metadata": {},
   "outputs": [],
   "source": [
    "Clist_rand = zeros(nrealiz, float)\n",
    "Clist_rew = zeros(nrealiz, float)\n",
    "for re in range(nrealiz):\n",
    "    Crand, Cnodes_rand = galib.Clustering(randnets[re])\n",
    "    Clist_rand[re] = Crand\n",
    "    Crew, Cnodes_rew = galib.Clustering(rewnets[re])\n",
    "    Clist_rew[re] = Crew\n",
    "\n",
    "print('\\nCLUSTERING COEFFICIENT')\n",
    "print('Cat:\\t%1.3f \\nRandom:\\t%1.3f \\nRew:\\t%1.3f' %(C, Crand, Crew))"
   ]
  },
  {
   "cell_type": "markdown",
   "metadata": {},
   "source": [
    "> **NOTE: _Absolute versus relative metrics_**\n",
    ">\n",
    "> In the results above, `C` is the absolute or observed value of the clustering coefficient in the cat's structural connectome. We know that the clustering is a metric bounded from 0 to 1, thus `C` will inform us on whether the observed value is large or is small. \n",
    ">\n",
    "> On the other hand *Crand* and *Crew* are expectation values. Thus, we should always know \"*expected, respecting to what?*\" `Crand` and `Crew` depend both on the constraints and a generative hypothesis under which the null-models has been constructed upon. Thus, often, we find in the literature relative metrics defined as, e.g., `Cnorm = C / Crand` or `Cnorm = C - Crand`. These \"metrics\" are not graph metrics, they are relative values which inform on how far does the real observation `C` deviate from expectation, given a pre-defined hypothesis. \n",
    ">\n",
    "> In the case of the cat's SC, `Cnorm = C / Crand = 1.564` and `Cnorm = C / Crew = 1.230`, meaning that its clustering coefficient may be \"better explained\" considering the constraints imposed by the degree distribution than by the number of links alone. However, those relative values do not inform on how small or how large is the clustering coefficient of the cat's SC per se."
   ]
  },
  {
   "cell_type": "markdown",
   "metadata": {},
   "source": [
    "#### Compare the pathlength and betweenness centrality"
   ]
  },
  {
   "cell_type": "code",
   "execution_count": null,
   "metadata": {},
   "outputs": [],
   "source": [
    "# First, calculate pathlengths and BC from the RANDOM graphs\n",
    "avlenlist_rand = zeros(nrealiz, float)\n",
    "bclist_rand = []\n",
    "triuidx = triu_indices(N, k=1)\n",
    "for re in range(nrealiz):\n",
    "    Dij_rand, BC_rand, paths, cycles = galib.PathsAllinOne(randnets[re])\n",
    "    values = Dij_rand[triuidx]\n",
    "    avlenlist_rand[re] = values.mean()\n",
    "    bclist_rand += BC_rand.tolist()\n",
    "\n",
    "# Calculate pathlengths and BC from the REWIRED graphs\n",
    "avlenlist_rew = zeros(nrealiz, float)\n",
    "bclist_rew = []\n",
    "for re in range(nrealiz):\n",
    "    Dij_rew, BC_rew, paths, cycles = galib.PathsAllinOne(rewnets[re])\n",
    "    values = Dij_rew[triuidx]\n",
    "    avlenlist_rew[re] = values.mean()\n",
    "    bclist_rew += BC_rew.tolist()\n"
   ]
  },
  {
   "cell_type": "code",
   "execution_count": null,
   "metadata": {},
   "outputs": [],
   "source": [
    "# Results for the average pathlength \n",
    "plt.figure()\n",
    "plt.title('Comparison of average pathlengths', fontsize=14)\n",
    "plt.bar( (1,2,3), (avpathlen, avlenlist_rand.mean(), avlenlist_rew.mean()) )\n",
    "plt.ylim(1,2)\n",
    "plt.xticks((1,2,3), ('Cat', 'Random', 'Rewired') )\n",
    "plt.grid(axis='y', lw=0.5)\n"
   ]
  },
  {
   "cell_type": "code",
   "execution_count": null,
   "metadata": {},
   "outputs": [],
   "source": [
    "# Results for the betweenness centrality\n",
    "plt.figure()\n",
    "plt.scatter(deg, bcnodes)\n",
    "plt.plot(deglist_rand, bclist_rand, '.', color='red', zorder=10)\n",
    "plt.plot(deglist_rew, bclist_rew, '.', color='orange', zorder=5)\n",
    "#plt.scatter(deg*deg, bcnodes)\n",
    "#plt.plot(deglist_rand**2, bclist_rand, '.', color='red', zorder=10)\n",
    "#plt.plot(deglist_rew**2, bclist_rew, '.', color='orange', zorder=5)\n",
    "\n",
    "plt.xlabel('Node degree', fontsize=14)\n",
    "plt.ylabel('Betweenness centrality', fontsize=14)\n",
    "plt.grid(lw=0.5)\n",
    "\n",
    "# Try again with k**2. (comment'xlim' out). What happens?"
   ]
  },
  {
   "cell_type": "markdown",
   "metadata": {},
   "source": [
    "<br/>\n",
    "<br/>\n",
    "\n",
    "## Functional Connectivity –––––––––––––––––––––––––––––––––––––––––––––––\n",
    "\n",
    "Usually, functional connectivity is estimated from dynamic / statistic measures from the pairwise  temporal activities of two brain regions. Here, we don't have fMRI or EEG data from the brain of cats so, for illustration purposes, we will compute an analytical estimate (a prediction) of its FC. This estimate, *Topological Similarity*, is based on a diffusion process along the network. The details of the estimate are found in:\n",
    "\n",
    "- Bettinardi, Deco et al. (2017) \"*[How structure sculpts function: Unveiling the contribution of anatomical connectivity to the brain's spontaneous correlation structure](http://aip.scitation.org/doi/10.1063/1.4980099)*\" Chaos, 27, 047409.\n",
    "\n",
    "The estimate accepts a tunable parameter, a uniform coupling strength $g$ applied to all links."
   ]
  },
  {
   "cell_type": "code",
   "execution_count": null,
   "metadata": {},
   "outputs": [],
   "source": [
    "# Import the function to estimate Topological Similarity\n",
    "from galib.extra import TopologicalSimilarity"
   ]
  },
  {
   "cell_type": "code",
   "execution_count": null,
   "metadata": {},
   "outputs": [],
   "source": [
    "# Coupling strength\n",
    "g = 0.1  #0.0766\n",
    "fcnet = TopologicalSimilarity(netsym, g)\n",
    "\n",
    "plt.figure()\n",
    "plt.imshow(fcnet, cmap='jet')\n",
    "plt.clim(0,1)\n",
    "plt.colorbar()"
   ]
  },
  {
   "cell_type": "code",
   "execution_count": null,
   "metadata": {},
   "outputs": [],
   "source": [
    "# Calculate the intensity of the nodes (weighted equivalent of degree)\n",
    "intens = galib.Intensity(fcnet, directed=False)\n",
    "\n",
    "# Compare SC degree and FC intensity\n",
    "plt.figure()\n",
    "plt.scatter(deg, intens)\n",
    "plt.xlabel('Node degree (SC)', fontsize=14)\n",
    "plt.ylabel('Node intensity (FC)', fontsize=14)\n",
    "plt.grid(lw=0.5)"
   ]
  },
  {
   "cell_type": "code",
   "execution_count": null,
   "metadata": {},
   "outputs": [],
   "source": [
    "# Compare the graph distance and the pair-wise correlations\n",
    "\n",
    "plt.figure()\n",
    "for dist in range(1,int(diam)+1):\n",
    "    # Get only the FC values for each graph distance...\n",
    "    idx = where(Dij==dist)\n",
    "    values = fcnet[idx]\n",
    "    # ... and plot them\n",
    "    plt.violinplot(values, positions=[dist])\n",
    "\n",
    "plt.xlabel('Graph distance (SC)', fontsize=14)\n",
    "plt.ylabel('Correlation (FC)', fontsize=14)\n"
   ]
  },
  {
   "cell_type": "code",
   "execution_count": null,
   "metadata": {},
   "outputs": [],
   "source": []
  }
 ],
 "metadata": {
  "kernelspec": {
   "display_name": "Python 3",
   "language": "python",
   "name": "python3"
  },
  "language_info": {
   "codemirror_mode": {
    "name": "ipython",
    "version": 3
   },
   "file_extension": ".py",
   "mimetype": "text/x-python",
   "name": "python",
   "nbconvert_exporter": "python",
   "pygments_lexer": "ipython3",
   "version": "3.6.5"
  }
 },
 "nbformat": 4,
 "nbformat_minor": 2
}
